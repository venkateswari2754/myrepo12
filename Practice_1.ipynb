{
  "nbformat": 4,
  "nbformat_minor": 0,
  "metadata": {
    "colab": {
      "provenance": []
    },
    "kernelspec": {
      "name": "python3",
      "display_name": "Python 3"
    },
    "language_info": {
      "name": "python"
    }
  },
  "cells": [
    {
      "cell_type": "code",
      "execution_count": null,
      "metadata": {
        "id": "mVSZRsbHjORw"
      },
      "outputs": [],
      "source": [
        "# Examples of variables\n",
        "counter = 100\n",
        "miles = 1000.0\n",
        "name = 'Python'\n",
        "is_loan = True"
      ]
    },
    {
      "cell_type": "code",
      "source": [
        "# Output 1\n",
        "print(counter)\n",
        "print(type(counter))"
      ],
      "metadata": {
        "colab": {
          "base_uri": "https://localhost:8080/"
        },
        "id": "52kEp7lBjslI",
        "outputId": "eea20fd2-b730-4297-aa8c-a8c5c8377521"
      },
      "execution_count": null,
      "outputs": [
        {
          "output_type": "stream",
          "name": "stdout",
          "text": [
            "100\n",
            "<class 'int'>\n"
          ]
        }
      ]
    },
    {
      "cell_type": "code",
      "source": [
        "# class 'int' means that it is of integer type"
      ],
      "metadata": {
        "id": "L4I1QOqhjsn3"
      },
      "execution_count": null,
      "outputs": []
    },
    {
      "cell_type": "code",
      "source": [
        "# Output 2\n",
        "print(miles)\n",
        "print(type(miles))"
      ],
      "metadata": {
        "colab": {
          "base_uri": "https://localhost:8080/"
        },
        "id": "9pmgtNVqjsqj",
        "outputId": "eaa1be7c-7717-4349-c081-a8d600a8f094"
      },
      "execution_count": null,
      "outputs": [
        {
          "output_type": "stream",
          "name": "stdout",
          "text": [
            "1000.0\n",
            "<class 'float'>\n"
          ]
        }
      ]
    },
    {
      "cell_type": "code",
      "source": [
        "# class 'int' means that it is of decimal value"
      ],
      "metadata": {
        "id": "VM1jfML0jstg"
      },
      "execution_count": null,
      "outputs": []
    },
    {
      "cell_type": "code",
      "source": [
        "# Output 3\n",
        "print(name)\n",
        "print(type(name))"
      ],
      "metadata": {
        "colab": {
          "base_uri": "https://localhost:8080/"
        },
        "id": "JEpn3NeMjswZ",
        "outputId": "06a95775-9b6e-4e50-b6a3-6a5e4ec2166e"
      },
      "execution_count": null,
      "outputs": [
        {
          "output_type": "stream",
          "name": "stdout",
          "text": [
            "Python\n",
            "<class 'str'>\n"
          ]
        }
      ]
    },
    {
      "cell_type": "code",
      "source": [
        "# class 'str' means that it is of 'string' value"
      ],
      "metadata": {
        "id": "Y4oJe_MijszK"
      },
      "execution_count": null,
      "outputs": []
    },
    {
      "cell_type": "code",
      "source": [
        "# Output 4\n",
        "print(is_loan)\n",
        "print(type(is_loan))"
      ],
      "metadata": {
        "colab": {
          "base_uri": "https://localhost:8080/"
        },
        "id": "6lomkYyXjs2j",
        "outputId": "c4e96827-0a81-4df8-a7bf-7d8a97eec80f"
      },
      "execution_count": null,
      "outputs": [
        {
          "output_type": "stream",
          "name": "stdout",
          "text": [
            "True\n",
            "<class 'bool'>\n"
          ]
        }
      ]
    },
    {
      "cell_type": "code",
      "source": [
        "# class 'bool' means that it is of 'boolean' value"
      ],
      "metadata": {
        "id": "nqedaglejs5u"
      },
      "execution_count": null,
      "outputs": []
    },
    {
      "cell_type": "code",
      "source": [
        "# Conditional Statements ->"
      ],
      "metadata": {
        "id": "sAFkZJPanNX5"
      },
      "execution_count": null,
      "outputs": []
    },
    {
      "cell_type": "code",
      "source": [
        "# if statement\n",
        "a = 5\n",
        "if a > 0:\n",
        "  print('a is greater than 0')"
      ],
      "metadata": {
        "colab": {
          "base_uri": "https://localhost:8080/"
        },
        "id": "UbMZ-vKrnNab",
        "outputId": "e5b0223a-07b5-4641-d26b-f188d8bbd3e1"
      },
      "execution_count": null,
      "outputs": [
        {
          "output_type": "stream",
          "name": "stdout",
          "text": [
            "a is greater than 0\n"
          ]
        }
      ]
    },
    {
      "cell_type": "code",
      "source": [
        "'''\n",
        "Space before print() statement in tha above block is called as indentation.\n",
        "Python is indent sensitive programming language\n",
        "Indentation indicates the hierarchy of code in Python\n",
        "'''"
      ],
      "metadata": {
        "id": "v6gGmy2FnNck"
      },
      "execution_count": null,
      "outputs": []
    },
    {
      "cell_type": "code",
      "source": [
        "# if else statement\n",
        "a = -5\n",
        "if a > 0:\n",
        "  print('a is greater than 0')\n",
        "else:\n",
        "  print('a is less than 0')"
      ],
      "metadata": {
        "colab": {
          "base_uri": "https://localhost:8080/"
        },
        "id": "J-ife6HWnNfU",
        "outputId": "27452149-1ddc-4101-e460-3c4d4e42b29a"
      },
      "execution_count": null,
      "outputs": [
        {
          "output_type": "stream",
          "name": "stdout",
          "text": [
            "a is less than 0\n"
          ]
        }
      ]
    },
    {
      "cell_type": "code",
      "source": [
        "# if elif else statement\n",
        "a = 0\n",
        "if a > 0:\n",
        "  print('a is greater than 0')\n",
        "elif a < 0:\n",
        "  print('a is less than 0')\n",
        "else:\n",
        "  print('a is equal to 0')"
      ],
      "metadata": {
        "colab": {
          "base_uri": "https://localhost:8080/"
        },
        "id": "Dc6qSV3vnNho",
        "outputId": "9404abe1-85f2-4a7d-db0b-e1aa9c12161e"
      },
      "execution_count": null,
      "outputs": [
        {
          "output_type": "stream",
          "name": "stdout",
          "text": [
            "a is equal to 0\n"
          ]
        }
      ]
    },
    {
      "cell_type": "code",
      "source": [
        "# elif is the keyword which stands for 'else if'\n",
        "# We can have any number of 'elif' conditions"
      ],
      "metadata": {
        "id": "ERsyaGJ1nNjo"
      },
      "execution_count": null,
      "outputs": []
    },
    {
      "cell_type": "code",
      "source": [
        "# for() loop Example\n",
        "fruits = ['apple', 'banana', 'cherry']\n",
        "for x in fruits:\n",
        "  print(x)"
      ],
      "metadata": {
        "colab": {
          "base_uri": "https://localhost:8080/"
        },
        "id": "E3JsMY5anNmc",
        "outputId": "8af73dce-721a-4a74-c939-e2c1de559e6b"
      },
      "execution_count": null,
      "outputs": [
        {
          "output_type": "stream",
          "name": "stdout",
          "text": [
            "apple\n",
            "banana\n",
            "cherry\n"
          ]
        }
      ]
    },
    {
      "cell_type": "code",
      "source": [
        "'''\n",
        "for() loop executes once for every value in the iterable object\n",
        "x is called as an iterator which iterates over the values of the variable\n",
        "'''"
      ],
      "metadata": {
        "id": "tFymVcjpnNop"
      },
      "execution_count": null,
      "outputs": []
    },
    {
      "cell_type": "code",
      "source": [
        "# while() loop Example\n",
        "i = 1\n",
        "while i < 6:\n",
        "  print(i)\n",
        "  i += 1"
      ],
      "metadata": {
        "colab": {
          "base_uri": "https://localhost:8080/"
        },
        "id": "ZxEjs524js8P",
        "outputId": "f453fc36-361f-4d80-8af2-0f43236f58e6"
      },
      "execution_count": null,
      "outputs": [
        {
          "output_type": "stream",
          "name": "stdout",
          "text": [
            "1\n",
            "2\n",
            "3\n",
            "4\n",
            "5\n"
          ]
        }
      ]
    },
    {
      "cell_type": "code",
      "source": [
        "'''\n",
        "while() loop will keep on getting executed until and unless the condition specified turn False\n",
        "We have initialized the value of i to 1\n",
        "'''"
      ],
      "metadata": {
        "id": "NmLQOj5Fjs_s"
      },
      "execution_count": null,
      "outputs": []
    },
    {
      "cell_type": "code",
      "source": [
        "# Nested Loop Example\n",
        "adj = ['red', 'big', 'tasty']\n",
        "fruits = ['apple', 'banana', 'cherry']\n",
        "for x in adj:\n",
        "  for y in fruits:\n",
        "    print(x, y)"
      ],
      "metadata": {
        "colab": {
          "base_uri": "https://localhost:8080/"
        },
        "id": "3a_ejogRp_NO",
        "outputId": "5bba9b1a-1661-441b-d6b6-d38d3db7797e"
      },
      "execution_count": null,
      "outputs": [
        {
          "output_type": "stream",
          "name": "stdout",
          "text": [
            "red apple\n",
            "red banana\n",
            "red cherry\n",
            "big apple\n",
            "big banana\n",
            "big cherry\n",
            "tasty apple\n",
            "tasty banana\n",
            "tasty cherry\n"
          ]
        }
      ]
    },
    {
      "cell_type": "code",
      "source": [
        "'''\n",
        "In the first iteration, x = 'red' and y = 'apple',\n",
        "In the second iteration, x = 'red' and y = 'banana',\n",
        "In the third iteration, x = 'red' and y = 'cherry',\n",
        "In the fourth iteration, x = 'big' and y = 'apple',\n",
        "In the fifth iteration, x = 'big' and y = 'banana',\n",
        "In the sixth iteration, x = 'big' and y = 'cherry',\n",
        "In the seventh iteration, x = 'tasty' and y = 'apple',\n",
        "In the eighth iteration, x = 'tasty' and y = 'banana',\n",
        "In the ninth iteration, x = 'tasty' and y = 'cherry'\n",
        "'''"
      ],
      "metadata": {
        "id": "IoMTjRCJp_QJ"
      },
      "execution_count": null,
      "outputs": []
    },
    {
      "cell_type": "code",
      "source": [
        "# break is used to terminate the loop in which it is placed"
      ],
      "metadata": {
        "id": "7vq4r7SFrVJu"
      },
      "execution_count": null,
      "outputs": []
    },
    {
      "cell_type": "code",
      "source": [
        "# break Example 1\n",
        "for letter in 'Python':\n",
        "  print('Current Letter :', letter)\n",
        "  if letter == 'h':\n",
        "    break"
      ],
      "metadata": {
        "colab": {
          "base_uri": "https://localhost:8080/"
        },
        "id": "kfXdUX6lp_Sw",
        "outputId": "ffc3a1aa-1a21-493f-ad54-2856dd54fdac"
      },
      "execution_count": null,
      "outputs": [
        {
          "output_type": "stream",
          "name": "stdout",
          "text": [
            "Current Letter : P\n",
            "Current Letter : y\n",
            "Current Letter : t\n",
            "Current Letter : h\n"
          ]
        }
      ]
    },
    {
      "cell_type": "code",
      "source": [
        "# break Example 2\n",
        "var = 10\n",
        "while var > 0:\n",
        "  print('Current Value :', var)\n",
        "  var = var - 1\n",
        "  if var == 5:\n",
        "    break"
      ],
      "metadata": {
        "colab": {
          "base_uri": "https://localhost:8080/"
        },
        "id": "6JeGqK7Sp_Vr",
        "outputId": "eb8b7a31-2d66-4d19-9846-171bbfc357f5"
      },
      "execution_count": null,
      "outputs": [
        {
          "output_type": "stream",
          "name": "stdout",
          "text": [
            "Current Value : 10\n",
            "Current Value : 9\n",
            "Current Value : 8\n",
            "Current Value : 7\n",
            "Current Value : 6\n"
          ]
        }
      ]
    },
    {
      "cell_type": "code",
      "source": [
        "# Inbuilt Functions"
      ],
      "metadata": {
        "id": "nW-xM098sPJX"
      },
      "execution_count": null,
      "outputs": []
    },
    {
      "cell_type": "code",
      "source": [
        "# Min(), Max() Example\n",
        "print('Minimum of 4, 12, 18 :', min(4, 12, 18))\n",
        "print('Maximum of 4, 12, 18 :', max(4, 12, 18))"
      ],
      "metadata": {
        "colab": {
          "base_uri": "https://localhost:8080/"
        },
        "id": "kotd3YIzp_YP",
        "outputId": "ad382907-509c-4489-f620-649fe352057c"
      },
      "execution_count": null,
      "outputs": [
        {
          "output_type": "stream",
          "name": "stdout",
          "text": [
            "Minimum of 4, 12, 18 : 4\n",
            "Maximum of 4, 12, 18 : 18\n"
          ]
        }
      ]
    },
    {
      "cell_type": "code",
      "source": [
        "# Absolute Value\n",
        "print('Absolute value of -45 :', abs(-45))"
      ],
      "metadata": {
        "colab": {
          "base_uri": "https://localhost:8080/"
        },
        "id": "xCnHJHO1p_az",
        "outputId": "3cb41edc-6abe-4408-884e-1a4edeae776d"
      },
      "execution_count": null,
      "outputs": [
        {
          "output_type": "stream",
          "name": "stdout",
          "text": [
            "Absolute value of -45 : 45\n"
          ]
        }
      ]
    },
    {
      "cell_type": "code",
      "source": [
        "# User Defined Functions (UDF)\n",
        "def add_numbers(x, y):\n",
        "  s = x+y\n",
        "  return s"
      ],
      "metadata": {
        "id": "nzJ0pfLCp_dl"
      },
      "execution_count": null,
      "outputs": []
    },
    {
      "cell_type": "code",
      "source": [
        "# Driver Code\n",
        "add_numbers(2, 3)"
      ],
      "metadata": {
        "colab": {
          "base_uri": "https://localhost:8080/"
        },
        "id": "wLiQWMRGsk-d",
        "outputId": "a1a5f6ca-4d17-45b3-8c63-00a1abc9821c"
      },
      "execution_count": null,
      "outputs": [
        {
          "output_type": "execute_result",
          "data": {
            "text/plain": [
              "5"
            ]
          },
          "metadata": {},
          "execution_count": 19
        }
      ]
    },
    {
      "cell_type": "code",
      "source": [
        "# Driver Code\n",
        "add_numbers(3, 7)"
      ],
      "metadata": {
        "colab": {
          "base_uri": "https://localhost:8080/"
        },
        "id": "otZH-JShslBR",
        "outputId": "ad4fc344-66b1-4b8e-a577-f115a2614913"
      },
      "execution_count": null,
      "outputs": [
        {
          "output_type": "execute_result",
          "data": {
            "text/plain": [
              "10"
            ]
          },
          "metadata": {},
          "execution_count": 20
        }
      ]
    },
    {
      "cell_type": "code",
      "source": [
        "# Lambda Function\n",
        "x = lambda a : a + 10\n",
        "print(x(5))"
      ],
      "metadata": {
        "colab": {
          "base_uri": "https://localhost:8080/"
        },
        "id": "Pht3RmxYslD5",
        "outputId": "4d6e1b9e-15c3-4cb6-82b8-b11909c3d1cd"
      },
      "execution_count": null,
      "outputs": [
        {
          "output_type": "stream",
          "name": "stdout",
          "text": [
            "15\n"
          ]
        }
      ]
    },
    {
      "cell_type": "code",
      "source": [
        "# Lambda Functions are used when we have a single line body of the UDF"
      ],
      "metadata": {
        "id": "zCjxtpxQslGT"
      },
      "execution_count": null,
      "outputs": []
    },
    {
      "cell_type": "code",
      "source": [
        "# Lambda Function\n",
        "y = lambda a, b : a * b\n",
        "print(y(5, 6))"
      ],
      "metadata": {
        "colab": {
          "base_uri": "https://localhost:8080/"
        },
        "id": "FNIBF1MeslIu",
        "outputId": "f9435b08-eb48-43bb-faf4-8fdd7a53b9a8"
      },
      "execution_count": null,
      "outputs": [
        {
          "output_type": "stream",
          "name": "stdout",
          "text": [
            "30\n"
          ]
        }
      ]
    },
    {
      "cell_type": "code",
      "source": [
        "# Lambda Function\n",
        "z = lambda a, b, c : a * b + c\n",
        "print(z(5, 6, 3))"
      ],
      "metadata": {
        "colab": {
          "base_uri": "https://localhost:8080/"
        },
        "id": "cywTxIz8p_gA",
        "outputId": "010257f8-3aef-4743-f30f-ef264dc333e5"
      },
      "execution_count": null,
      "outputs": [
        {
          "output_type": "stream",
          "name": "stdout",
          "text": [
            "33\n"
          ]
        }
      ]
    },
    {
      "cell_type": "code",
      "source": [
        "# Map Function\n",
        "## Creating a UDF\n",
        "def sqr(n):\n",
        "  return n ** 2\n",
        "\n",
        "## We will create a list\n",
        "nums = [1, 2, 3, 4, 5]\n",
        "\n",
        "## Mapping the function\n",
        "res = map(sqr, nums)\n",
        "print(list(res))"
      ],
      "metadata": {
        "colab": {
          "base_uri": "https://localhost:8080/"
        },
        "id": "PWiSmot4p_ir",
        "outputId": "66d21ade-c931-4929-dc31-f9daddfdf0b4"
      },
      "execution_count": null,
      "outputs": [
        {
          "output_type": "stream",
          "name": "stdout",
          "text": [
            "[1, 4, 9, 16, 25]\n"
          ]
        }
      ]
    },
    {
      "cell_type": "code",
      "source": [
        "# Filter Function Example\n",
        "ages = [5, 12, 17, 18, 24, 32]\n",
        "\n",
        "## Creating a function\n",
        "def myFunc(x):\n",
        "  if x < 18:\n",
        "    return False\n",
        "  else:\n",
        "    return True\n",
        "\n",
        "## Using the filter function\n",
        "adults = filter(myFunc, ages)\n",
        "print(list(adults))"
      ],
      "metadata": {
        "colab": {
          "base_uri": "https://localhost:8080/"
        },
        "id": "_FS9s3OFvHgy",
        "outputId": "aa58d5e3-d6a8-48b4-a872-c92317c5445f"
      },
      "execution_count": null,
      "outputs": [
        {
          "output_type": "stream",
          "name": "stdout",
          "text": [
            "[18, 24, 32]\n"
          ]
        }
      ]
    },
    {
      "cell_type": "code",
      "source": [
        "# String Operation and Manipulation"
      ],
      "metadata": {
        "id": "niv85-F9vHkB"
      },
      "execution_count": null,
      "outputs": []
    },
    {
      "cell_type": "code",
      "source": [
        "# Creating a String\n",
        "s = 'Python'\n",
        "print(s)\n",
        "print(type(s))"
      ],
      "metadata": {
        "colab": {
          "base_uri": "https://localhost:8080/"
        },
        "id": "-WWmGw3dv7wB",
        "outputId": "523880ac-d61d-403f-b687-30f348e31673"
      },
      "execution_count": null,
      "outputs": [
        {
          "output_type": "stream",
          "name": "stdout",
          "text": [
            "Python\n",
            "<class 'str'>\n"
          ]
        }
      ]
    },
    {
      "cell_type": "code",
      "source": [
        "# Strings are indexed in Python starting from 0"
      ],
      "metadata": {
        "id": "rH06rCnav7y1"
      },
      "execution_count": null,
      "outputs": []
    },
    {
      "cell_type": "code",
      "source": [
        "# Accessing the elements of the string through indexes\n",
        "print('First Element :', s[0])"
      ],
      "metadata": {
        "colab": {
          "base_uri": "https://localhost:8080/"
        },
        "id": "ql_stWnGv71g",
        "outputId": "ca22129a-eb17-4f83-9886-fd86396cbdf1"
      },
      "execution_count": null,
      "outputs": [
        {
          "output_type": "stream",
          "name": "stdout",
          "text": [
            "First Element : P\n"
          ]
        }
      ]
    },
    {
      "cell_type": "code",
      "source": [
        "# Accessing the elements from right\n",
        "print('Last Element :', s[-1])"
      ],
      "metadata": {
        "colab": {
          "base_uri": "https://localhost:8080/"
        },
        "id": "wg0V1fFav74-",
        "outputId": "510ad5e9-f6f8-43a2-a314-a80ac34b36fe"
      },
      "execution_count": null,
      "outputs": [
        {
          "output_type": "stream",
          "name": "stdout",
          "text": [
            "Last Element : n\n"
          ]
        }
      ]
    },
    {
      "cell_type": "code",
      "source": [
        "# Negative Indexing means you are moving from right to left\n",
        "# Positive Indexing means you are moving from left to right"
      ],
      "metadata": {
        "id": "dCO9zkeiv8Iy"
      },
      "execution_count": null,
      "outputs": []
    },
    {
      "cell_type": "code",
      "source": [
        "# Question ->\n",
        "s = 'Python'\n",
        "print(s[3])"
      ],
      "metadata": {
        "colab": {
          "base_uri": "https://localhost:8080/"
        },
        "id": "mA_1H_NEv8Lj",
        "outputId": "c44e12e6-c1c8-4353-d549-af0d7dbf9f5d"
      },
      "execution_count": null,
      "outputs": [
        {
          "output_type": "stream",
          "name": "stdout",
          "text": [
            "h\n"
          ]
        }
      ]
    },
    {
      "cell_type": "code",
      "source": [
        "# Question ->\n",
        "s = 'Python'\n",
        "print(s[-3])"
      ],
      "metadata": {
        "colab": {
          "base_uri": "https://localhost:8080/"
        },
        "id": "rdbDMzz1v8Ot",
        "outputId": "31e6f679-4747-45b1-ddd5-f3b337afc70c"
      },
      "execution_count": null,
      "outputs": [
        {
          "output_type": "stream",
          "name": "stdout",
          "text": [
            "h\n"
          ]
        }
      ]
    },
    {
      "cell_type": "code",
      "source": [
        "# Concept of Slicing -> string (start index : stop index)\n",
        "# Element at the stopping index is not included"
      ],
      "metadata": {
        "id": "KXodXiifv8RJ"
      },
      "execution_count": null,
      "outputs": []
    },
    {
      "cell_type": "code",
      "source": [
        "# Example\n",
        "s = 'Procastination'\n",
        "print(s[2:5])"
      ],
      "metadata": {
        "colab": {
          "base_uri": "https://localhost:8080/"
        },
        "id": "hrHaGYCxv8T4",
        "outputId": "ee2c28e2-1a8a-452e-f996-1c0edfb3acb2"
      },
      "execution_count": null,
      "outputs": [
        {
          "output_type": "stream",
          "name": "stdout",
          "text": [
            "oca\n"
          ]
        }
      ]
    },
    {
      "cell_type": "code",
      "source": [
        "# Question\n",
        "s = 'Procastination'\n",
        "print(s[4:9])"
      ],
      "metadata": {
        "colab": {
          "base_uri": "https://localhost:8080/"
        },
        "id": "Yrf-2s1Hv8WY",
        "outputId": "01236a60-4292-4681-bb54-7869e8e7a523"
      },
      "execution_count": null,
      "outputs": [
        {
          "output_type": "stream",
          "name": "stdout",
          "text": [
            "astin\n"
          ]
        }
      ]
    },
    {
      "cell_type": "code",
      "source": [
        "# Concept of step in slicing -> string[start : stop : step]\n",
        "s = 'Procastination'\n",
        "print(s[2:9:2])"
      ],
      "metadata": {
        "colab": {
          "base_uri": "https://localhost:8080/"
        },
        "id": "gskWkv7gv8ZM",
        "outputId": "c3abc063-906d-4f58-ea6c-ebab9d56070a"
      },
      "execution_count": null,
      "outputs": [
        {
          "output_type": "stream",
          "name": "stdout",
          "text": [
            "oatn\n"
          ]
        }
      ]
    },
    {
      "cell_type": "code",
      "source": [
        "# Default value of step is 1"
      ],
      "metadata": {
        "id": "LvWt5vJZvHmY"
      },
      "execution_count": null,
      "outputs": []
    },
    {
      "cell_type": "code",
      "source": [
        "# String are immutable\n",
        "s = 'Python'\n",
        "s[0] = 'S'"
      ],
      "metadata": {
        "colab": {
          "base_uri": "https://localhost:8080/",
          "height": 180
        },
        "id": "Yvf9gh8-urla",
        "outputId": "d4ada50f-38bc-4bb2-fa65-4eb885515385"
      },
      "execution_count": null,
      "outputs": [
        {
          "output_type": "error",
          "ename": "TypeError",
          "evalue": "'str' object does not support item assignment",
          "traceback": [
            "\u001b[0;31m---------------------------------------------------------------------------\u001b[0m",
            "\u001b[0;31mTypeError\u001b[0m                                 Traceback (most recent call last)",
            "\u001b[0;32m<ipython-input-38-5458c5d658bd>\u001b[0m in \u001b[0;36m<cell line: 0>\u001b[0;34m()\u001b[0m\n\u001b[1;32m      1\u001b[0m \u001b[0;31m# String are immutable\u001b[0m\u001b[0;34m\u001b[0m\u001b[0;34m\u001b[0m\u001b[0m\n\u001b[1;32m      2\u001b[0m \u001b[0ms\u001b[0m \u001b[0;34m=\u001b[0m \u001b[0;34m'Python'\u001b[0m\u001b[0;34m\u001b[0m\u001b[0;34m\u001b[0m\u001b[0m\n\u001b[0;32m----> 3\u001b[0;31m \u001b[0ms\u001b[0m\u001b[0;34m[\u001b[0m\u001b[0;36m0\u001b[0m\u001b[0;34m]\u001b[0m \u001b[0;34m=\u001b[0m \u001b[0;34m'S'\u001b[0m\u001b[0;34m\u001b[0m\u001b[0;34m\u001b[0m\u001b[0m\n\u001b[0m",
            "\u001b[0;31mTypeError\u001b[0m: 'str' object does not support item assignment"
          ]
        }
      ]
    },
    {
      "cell_type": "code",
      "source": [
        "# Deleting a String\n",
        "s = 'Python'\n",
        "print('Output :', s)\n",
        "del s\n",
        "print('Output :', s)"
      ],
      "metadata": {
        "colab": {
          "base_uri": "https://localhost:8080/",
          "height": 198
        },
        "id": "rHBTWVG4uroD",
        "outputId": "1027ffef-9b62-40da-80c5-da669bd4a6b4"
      },
      "execution_count": null,
      "outputs": [
        {
          "output_type": "stream",
          "name": "stdout",
          "text": [
            "Output : Python\n"
          ]
        },
        {
          "output_type": "error",
          "ename": "NameError",
          "evalue": "name 's' is not defined",
          "traceback": [
            "\u001b[0;31m---------------------------------------------------------------------------\u001b[0m",
            "\u001b[0;31mNameError\u001b[0m                                 Traceback (most recent call last)",
            "\u001b[0;32m<ipython-input-39-3ab46220810b>\u001b[0m in \u001b[0;36m<cell line: 0>\u001b[0;34m()\u001b[0m\n\u001b[1;32m      3\u001b[0m \u001b[0mprint\u001b[0m\u001b[0;34m(\u001b[0m\u001b[0;34m'Output :'\u001b[0m\u001b[0;34m,\u001b[0m \u001b[0ms\u001b[0m\u001b[0;34m)\u001b[0m\u001b[0;34m\u001b[0m\u001b[0;34m\u001b[0m\u001b[0m\n\u001b[1;32m      4\u001b[0m \u001b[0;32mdel\u001b[0m \u001b[0ms\u001b[0m\u001b[0;34m\u001b[0m\u001b[0;34m\u001b[0m\u001b[0m\n\u001b[0;32m----> 5\u001b[0;31m \u001b[0mprint\u001b[0m\u001b[0;34m(\u001b[0m\u001b[0;34m'Output :'\u001b[0m\u001b[0;34m,\u001b[0m \u001b[0ms\u001b[0m\u001b[0;34m)\u001b[0m\u001b[0;34m\u001b[0m\u001b[0;34m\u001b[0m\u001b[0m\n\u001b[0m",
            "\u001b[0;31mNameError\u001b[0m: name 's' is not defined"
          ]
        }
      ]
    },
    {
      "cell_type": "code",
      "source": [
        "# Formatting Strings -> Python provides different ways to include objects in strings\n",
        "name = 'Avishek'\n",
        "age = 27\n",
        "print(f\"Name : {name}, Age : {age}\")"
      ],
      "metadata": {
        "colab": {
          "base_uri": "https://localhost:8080/"
        },
        "id": "i-F_fSEwurqt",
        "outputId": "d185d8dd-2ab6-417f-d2f2-47933ebc7b0b"
      },
      "execution_count": null,
      "outputs": [
        {
          "output_type": "stream",
          "name": "stdout",
          "text": [
            "Name : Avishek, Age : 27\n"
          ]
        }
      ]
    },
    {
      "cell_type": "code",
      "source": [
        "# format()\n",
        "s = \"My name is {} and I am {} years old.\".format(\"Avishek\", 27)\n",
        "print(s)"
      ],
      "metadata": {
        "colab": {
          "base_uri": "https://localhost:8080/"
        },
        "id": "BYRt-tPnurtQ",
        "outputId": "567286a6-d9a7-467f-ed38-f9add8118cd6"
      },
      "execution_count": null,
      "outputs": [
        {
          "output_type": "stream",
          "name": "stdout",
          "text": [
            "My name is Avishek and I am 27 years old.\n"
          ]
        }
      ]
    },
    {
      "cell_type": "code",
      "source": [
        "# Basic Data Structures -> List, Tuple, Set, Dictionary"
      ],
      "metadata": {
        "id": "eozM_6I8urwZ"
      },
      "execution_count": null,
      "outputs": []
    },
    {
      "cell_type": "code",
      "source": [
        "'''\n",
        "Python Lists are Heterogenous (elements of different data types can be accomodated in it),\n",
        "Ordered (Sequence in which you give the data to a list, it preserves that order),\n",
        "Mutable (values can be changed once you initialize the list),\n",
        "They are declared with square barckets []\n",
        "'''"
      ],
      "metadata": {
        "id": "jCge0aSVuryx"
      },
      "execution_count": null,
      "outputs": []
    },
    {
      "cell_type": "code",
      "source": [
        "# Creating a list\n",
        "a = [1, 2, 3, 4, 5]\n",
        "print('List :', a)\n",
        "print(type(a))"
      ],
      "metadata": {
        "colab": {
          "base_uri": "https://localhost:8080/"
        },
        "id": "-uJ_DcIsur1O",
        "outputId": "490d8d2f-6173-4f4e-bf58-b2769aa08afb"
      },
      "execution_count": null,
      "outputs": [
        {
          "output_type": "stream",
          "name": "stdout",
          "text": [
            "List : [1, 2, 3, 4, 5]\n",
            "<class 'list'>\n"
          ]
        }
      ]
    },
    {
      "cell_type": "code",
      "source": [
        "# Lists are Mutable\n",
        "ls = ['a', 'b', 'c', 'd', 'e']\n",
        "print('Actual List :', ls)\n",
        "ls[0] = 'p'\n",
        "print('Updated List :', ls)"
      ],
      "metadata": {
        "colab": {
          "base_uri": "https://localhost:8080/"
        },
        "id": "MYTD6dLA4Nm8",
        "outputId": "71afba04-2be2-430c-ec1f-8b35fa0f668e"
      },
      "execution_count": null,
      "outputs": [
        {
          "output_type": "stream",
          "name": "stdout",
          "text": [
            "Actual List : ['a', 'b', 'c', 'd', 'e']\n",
            "Updated List : ['p', 'b', 'c', 'd', 'e']\n"
          ]
        }
      ]
    },
    {
      "cell_type": "code",
      "source": [
        "# Append Operation\n",
        "a = [10, 15, 20]\n",
        "print('Actual List :', a)\n",
        "a.append(25)\n",
        "print('Updated List :', a)"
      ],
      "metadata": {
        "colab": {
          "base_uri": "https://localhost:8080/"
        },
        "id": "Jlnd2-eH4Np2",
        "outputId": "d4e05c44-c536-4d64-b8d8-cbfd1334e4b0"
      },
      "execution_count": null,
      "outputs": [
        {
          "output_type": "stream",
          "name": "stdout",
          "text": [
            "Actual List : [10, 15, 20]\n",
            "Updated List : [10, 15, 20, 25]\n"
          ]
        }
      ]
    },
    {
      "cell_type": "code",
      "source": [
        "# List are heterogenous\n",
        "a = [1, 5.0, 'Python', True]\n",
        "print(a)\n",
        "print(type(a))"
      ],
      "metadata": {
        "colab": {
          "base_uri": "https://localhost:8080/"
        },
        "id": "L_rkMG9a4Nsv",
        "outputId": "cf2b39ad-a0d5-4467-d48f-6258a5de348d"
      },
      "execution_count": null,
      "outputs": [
        {
          "output_type": "stream",
          "name": "stdout",
          "text": [
            "[1, 5.0, 'Python', True]\n",
            "<class 'list'>\n"
          ]
        }
      ]
    },
    {
      "cell_type": "code",
      "source": [
        "# Lists allow duplicate entries\n",
        "a = [1, 1, 1, 2, 2, 3, 3, 4, 5]\n",
        "print(a)\n",
        "print(type(a))"
      ],
      "metadata": {
        "colab": {
          "base_uri": "https://localhost:8080/"
        },
        "id": "QrXfMRPT4Nvd",
        "outputId": "e6981466-3c5a-4476-bd48-b21f85155574"
      },
      "execution_count": null,
      "outputs": [
        {
          "output_type": "stream",
          "name": "stdout",
          "text": [
            "[1, 1, 1, 2, 2, 3, 3, 4, 5]\n",
            "<class 'list'>\n"
          ]
        }
      ]
    },
    {
      "cell_type": "code",
      "source": [
        "# Accessing the elements of the list through indexing\n",
        "ls = ['a', 'b', 'c', 'd', 'e']\n",
        "print('First Element :', ls[0])\n",
        "print('Last Element :', ls[-1])"
      ],
      "metadata": {
        "colab": {
          "base_uri": "https://localhost:8080/"
        },
        "id": "YLkRrG2Q4NyR",
        "outputId": "c27174e2-fc87-47fb-96b6-a7af88df289c"
      },
      "execution_count": null,
      "outputs": [
        {
          "output_type": "stream",
          "name": "stdout",
          "text": [
            "First Element : a\n",
            "Last Element : e\n"
          ]
        }
      ]
    },
    {
      "cell_type": "code",
      "source": [
        "# insert(index, element)\n",
        "a = [100, 200, 300, 400, 500]\n",
        "print('Actual List :', a)\n",
        "a.insert(2, 3000)\n",
        "print('Updated List :', a)"
      ],
      "metadata": {
        "colab": {
          "base_uri": "https://localhost:8080/"
        },
        "id": "5kZ8WiSour3x",
        "outputId": "dd897cff-0a19-4335-8a47-6fbcc08305aa"
      },
      "execution_count": null,
      "outputs": [
        {
          "output_type": "stream",
          "name": "stdout",
          "text": [
            "Actual List : [100, 200, 300, 400, 500]\n",
            "Updated List : [100, 200, 3000, 300, 400, 500]\n"
          ]
        }
      ]
    },
    {
      "cell_type": "code",
      "source": [
        "# extend() method\n",
        "a = [100, 200, 300]\n",
        "print('Actual List :', a)\n",
        "a.extend([400, 500])\n",
        "print('Updated List :', a)"
      ],
      "metadata": {
        "colab": {
          "base_uri": "https://localhost:8080/"
        },
        "id": "SBPVEvjd6OR1",
        "outputId": "3d07c9ef-e22d-41d6-aceb-b539c81acbd3"
      },
      "execution_count": null,
      "outputs": [
        {
          "output_type": "stream",
          "name": "stdout",
          "text": [
            "Actual List : [100, 200, 300]\n",
            "Updated List : [100, 200, 300, 400, 500]\n"
          ]
        }
      ]
    },
    {
      "cell_type": "code",
      "source": [
        "# Removing elements from a list\n",
        "a = [100, 200, 300, 400, 500]\n",
        "print('Actual List :', a)\n",
        "a.remove(300)\n",
        "print('Updated List :', a)"
      ],
      "metadata": {
        "colab": {
          "base_uri": "https://localhost:8080/"
        },
        "id": "8ILb0L8y6OUt",
        "outputId": "f95808bd-412f-462f-9435-e44d24de2f77"
      },
      "execution_count": null,
      "outputs": [
        {
          "output_type": "stream",
          "name": "stdout",
          "text": [
            "Actual List : [100, 200, 300, 400, 500]\n",
            "Updated List : [100, 200, 400, 500]\n"
          ]
        }
      ]
    },
    {
      "cell_type": "code",
      "source": [
        "# Removing the elements from a list\n",
        "a = [100, 200, 300, 400, 500]\n",
        "print('Actual List :', a)\n",
        "del a[3]\n",
        "print('Updated List :', a)"
      ],
      "metadata": {
        "colab": {
          "base_uri": "https://localhost:8080/"
        },
        "id": "SydiBYvH6_vM",
        "outputId": "ed965774-08a8-4e22-f673-0f05ed4ac7da"
      },
      "execution_count": null,
      "outputs": [
        {
          "output_type": "stream",
          "name": "stdout",
          "text": [
            "Actual List : [100, 200, 300, 400, 500]\n",
            "Updated List : [100, 200, 300, 500]\n"
          ]
        }
      ]
    },
    {
      "cell_type": "code",
      "source": [
        "# Doubt\n",
        "a = [100, 200, 300, 400, 500]\n",
        "print('Actual List :', a)\n",
        "del a\n",
        "print('Updated List :', a)"
      ],
      "metadata": {
        "colab": {
          "base_uri": "https://localhost:8080/",
          "height": 198
        },
        "id": "8Y4Yj7fV7lIY",
        "outputId": "6be36644-fd65-41e1-9935-e79e019c63c3"
      },
      "execution_count": null,
      "outputs": [
        {
          "output_type": "stream",
          "name": "stdout",
          "text": [
            "Actual List : [100, 200, 300, 400, 500]\n"
          ]
        },
        {
          "output_type": "error",
          "ename": "NameError",
          "evalue": "name 'a' is not defined",
          "traceback": [
            "\u001b[0;31m---------------------------------------------------------------------------\u001b[0m",
            "\u001b[0;31mNameError\u001b[0m                                 Traceback (most recent call last)",
            "\u001b[0;32m<ipython-input-55-c4f7361a0075>\u001b[0m in \u001b[0;36m<cell line: 0>\u001b[0;34m()\u001b[0m\n\u001b[1;32m      3\u001b[0m \u001b[0mprint\u001b[0m\u001b[0;34m(\u001b[0m\u001b[0;34m'Actual List :'\u001b[0m\u001b[0;34m,\u001b[0m \u001b[0ma\u001b[0m\u001b[0;34m)\u001b[0m\u001b[0;34m\u001b[0m\u001b[0;34m\u001b[0m\u001b[0m\n\u001b[1;32m      4\u001b[0m \u001b[0;32mdel\u001b[0m \u001b[0ma\u001b[0m\u001b[0;34m\u001b[0m\u001b[0;34m\u001b[0m\u001b[0m\n\u001b[0;32m----> 5\u001b[0;31m \u001b[0mprint\u001b[0m\u001b[0;34m(\u001b[0m\u001b[0;34m'Updated List :'\u001b[0m\u001b[0;34m,\u001b[0m \u001b[0ma\u001b[0m\u001b[0;34m)\u001b[0m\u001b[0;34m\u001b[0m\u001b[0;34m\u001b[0m\u001b[0m\n\u001b[0m",
            "\u001b[0;31mNameError\u001b[0m: name 'a' is not defined"
          ]
        }
      ]
    },
    {
      "cell_type": "code",
      "source": [
        "'''\n",
        "Python Tuples are Heterogenous (elements of different data types can be accomodated in it),\n",
        "Ordered (Sequence in which you give the data to a tuple, it preserves that order),\n",
        "Immutable (values cannot be changed once you initialize the tuple),\n",
        "They are declared with round barckets ()\n",
        "'''"
      ],
      "metadata": {
        "id": "yq9aAwxT7AmP"
      },
      "execution_count": null,
      "outputs": []
    },
    {
      "cell_type": "code",
      "source": [
        "# Creating a tuple\n",
        "a = (1, 2, 3, 4, 5)\n",
        "print(a)\n",
        "print(type(a))"
      ],
      "metadata": {
        "colab": {
          "base_uri": "https://localhost:8080/"
        },
        "id": "W5v4kpHS7A4b",
        "outputId": "b3b808df-72f9-40f9-91a5-d7c5c222a6b7"
      },
      "execution_count": null,
      "outputs": [
        {
          "output_type": "stream",
          "name": "stdout",
          "text": [
            "(1, 2, 3, 4, 5)\n",
            "<class 'tuple'>\n"
          ]
        }
      ]
    },
    {
      "cell_type": "code",
      "source": [
        "# Tuples are immutable\n",
        "a = (1, 2, 3, 4, 5)\n",
        "print('Actual Tuple :', a)\n",
        "a[0] = 10\n",
        "print('Updated Tuple :', a)"
      ],
      "metadata": {
        "colab": {
          "base_uri": "https://localhost:8080/",
          "height": 216
        },
        "id": "WLhpr1K77A7c",
        "outputId": "6b079027-8a31-4d40-a0c0-8b057138b85d"
      },
      "execution_count": null,
      "outputs": [
        {
          "output_type": "stream",
          "name": "stdout",
          "text": [
            "Actual Tuple : (1, 2, 3, 4, 5)\n"
          ]
        },
        {
          "output_type": "error",
          "ename": "TypeError",
          "evalue": "'tuple' object does not support item assignment",
          "traceback": [
            "\u001b[0;31m---------------------------------------------------------------------------\u001b[0m",
            "\u001b[0;31mTypeError\u001b[0m                                 Traceback (most recent call last)",
            "\u001b[0;32m<ipython-input-57-bc68ffa5bf0f>\u001b[0m in \u001b[0;36m<cell line: 0>\u001b[0;34m()\u001b[0m\n\u001b[1;32m      2\u001b[0m \u001b[0ma\u001b[0m \u001b[0;34m=\u001b[0m \u001b[0;34m(\u001b[0m\u001b[0;36m1\u001b[0m\u001b[0;34m,\u001b[0m \u001b[0;36m2\u001b[0m\u001b[0;34m,\u001b[0m \u001b[0;36m3\u001b[0m\u001b[0;34m,\u001b[0m \u001b[0;36m4\u001b[0m\u001b[0;34m,\u001b[0m \u001b[0;36m5\u001b[0m\u001b[0;34m)\u001b[0m\u001b[0;34m\u001b[0m\u001b[0;34m\u001b[0m\u001b[0m\n\u001b[1;32m      3\u001b[0m \u001b[0mprint\u001b[0m\u001b[0;34m(\u001b[0m\u001b[0;34m'Actual Tuple :'\u001b[0m\u001b[0;34m,\u001b[0m \u001b[0ma\u001b[0m\u001b[0;34m)\u001b[0m\u001b[0;34m\u001b[0m\u001b[0;34m\u001b[0m\u001b[0m\n\u001b[0;32m----> 4\u001b[0;31m \u001b[0ma\u001b[0m\u001b[0;34m[\u001b[0m\u001b[0;36m0\u001b[0m\u001b[0;34m]\u001b[0m \u001b[0;34m=\u001b[0m \u001b[0;36m10\u001b[0m\u001b[0;34m\u001b[0m\u001b[0;34m\u001b[0m\u001b[0m\n\u001b[0m\u001b[1;32m      5\u001b[0m \u001b[0mprint\u001b[0m\u001b[0;34m(\u001b[0m\u001b[0;34m'Updated Tuple :'\u001b[0m\u001b[0;34m,\u001b[0m \u001b[0ma\u001b[0m\u001b[0;34m)\u001b[0m\u001b[0;34m\u001b[0m\u001b[0;34m\u001b[0m\u001b[0m\n",
            "\u001b[0;31mTypeError\u001b[0m: 'tuple' object does not support item assignment"
          ]
        }
      ]
    },
    {
      "cell_type": "code",
      "source": [
        "# Accessing the elements of a tuple\n",
        "tup = ('a', 'b', 'c', 'd', 'e')\n",
        "print('Tuple :', tup)\n",
        "print('First Element :', tup[0])\n",
        "print('Last Element :', tup[-1])"
      ],
      "metadata": {
        "colab": {
          "base_uri": "https://localhost:8080/"
        },
        "id": "FfTrijlT6_yO",
        "outputId": "1a3915a2-92d0-466c-9ad3-41a3713212e4"
      },
      "execution_count": null,
      "outputs": [
        {
          "output_type": "stream",
          "name": "stdout",
          "text": [
            "Tuple : ('a', 'b', 'c', 'd', 'e')\n",
            "First Element : a\n",
            "Last Element : e\n"
          ]
        }
      ]
    },
    {
      "cell_type": "code",
      "source": [
        "# Slicing a tuple\n",
        "t = ('a', 'b', 'c', 'd', 'e')\n",
        "print(t[1:3])"
      ],
      "metadata": {
        "colab": {
          "base_uri": "https://localhost:8080/"
        },
        "id": "hO4EYhov8QUT",
        "outputId": "b55aefb3-3d89-440b-887c-fcfcf1f9d80e"
      },
      "execution_count": null,
      "outputs": [
        {
          "output_type": "stream",
          "name": "stdout",
          "text": [
            "('b', 'c')\n"
          ]
        }
      ]
    },
    {
      "cell_type": "code",
      "source": [
        "# While slicing last element is not included"
      ],
      "metadata": {
        "id": "0plsEkwb8QYR"
      },
      "execution_count": null,
      "outputs": []
    },
    {
      "cell_type": "code",
      "source": [
        "# Getting the length of a tuple\n",
        "t = ('a', 'b', 'c', 'd', 'e')\n",
        "print(len(t))"
      ],
      "metadata": {
        "colab": {
          "base_uri": "https://localhost:8080/"
        },
        "id": "rfytWwhg8Qb4",
        "outputId": "0dbb72df-c327-4899-b0f8-b835903a59f1"
      },
      "execution_count": null,
      "outputs": [
        {
          "output_type": "stream",
          "name": "stdout",
          "text": [
            "5\n"
          ]
        }
      ]
    },
    {
      "cell_type": "code",
      "source": [
        "# Converting a list to a tuple\n",
        "a = [1, 2, 3]\n",
        "print(a)\n",
        "print(type(a))\n",
        "b = tuple(a)\n",
        "print(b)\n",
        "print(type(b))"
      ],
      "metadata": {
        "colab": {
          "base_uri": "https://localhost:8080/"
        },
        "id": "xQL_-9V88QfS",
        "outputId": "6e1a384e-542b-4ec3-d473-65490a7bfc12"
      },
      "execution_count": null,
      "outputs": [
        {
          "output_type": "stream",
          "name": "stdout",
          "text": [
            "[1, 2, 3]\n",
            "<class 'list'>\n",
            "(1, 2, 3)\n",
            "<class 'tuple'>\n"
          ]
        }
      ]
    },
    {
      "cell_type": "code",
      "source": [
        "'''\n",
        "Python Sets are Heterogenous (elements of different data types can be accomodated in it),\n",
        "Unordered (Sequence in which you give the data to a set, it does not preserve that order),\n",
        "Immutable (values cannot be changed once you initialize the set),\n",
        "They are declared with curly barckets {} or with set()\n",
        "Sets do not allow duplicate values in them\n",
        "'''"
      ],
      "metadata": {
        "id": "Z-ym_sOB8Qjh"
      },
      "execution_count": null,
      "outputs": []
    },
    {
      "cell_type": "code",
      "source": [
        "# Creating a set\n",
        "a = set([1, 2, 3, 4, 5])\n",
        "print('Set :', a)\n",
        "print('Type :', type(a))"
      ],
      "metadata": {
        "colab": {
          "base_uri": "https://localhost:8080/"
        },
        "id": "F233crAC6_1t",
        "outputId": "708304ae-d783-4063-bdc7-1b7da5730fa3"
      },
      "execution_count": null,
      "outputs": [
        {
          "output_type": "stream",
          "name": "stdout",
          "text": [
            "Set : {1, 2, 3, 4, 5}\n",
            "Type : <class 'set'>\n"
          ]
        }
      ]
    },
    {
      "cell_type": "code",
      "source": [
        "# Sets do not allow duplicate values in them\n",
        "a = {1, 1, 1, 2, 2, 3, 3, 4, 5}\n",
        "print('Set :', a)\n",
        "print('Type :', type(a))"
      ],
      "metadata": {
        "colab": {
          "base_uri": "https://localhost:8080/"
        },
        "id": "cS6Pz-YI6OX9",
        "outputId": "ce62c4c1-b352-404d-c906-7f3b21d41469"
      },
      "execution_count": null,
      "outputs": [
        {
          "output_type": "stream",
          "name": "stdout",
          "text": [
            "Set : {1, 2, 3, 4, 5}\n",
            "Type : <class 'set'>\n"
          ]
        }
      ]
    },
    {
      "cell_type": "code",
      "source": [
        "# Sets are unordered\n",
        "a = {3, 1, 4, 1, 5, 9, 2}\n",
        "print('Set :', a)\n",
        "print('Type :', type(a))"
      ],
      "metadata": {
        "colab": {
          "base_uri": "https://localhost:8080/"
        },
        "id": "dwlBKXEY6Oby",
        "outputId": "e334be84-a61f-43b1-bb19-5099e79bc88a"
      },
      "execution_count": null,
      "outputs": [
        {
          "output_type": "stream",
          "name": "stdout",
          "text": [
            "Set : {1, 2, 3, 4, 5, 9}\n",
            "Type : <class 'set'>\n"
          ]
        }
      ]
    },
    {
      "cell_type": "code",
      "source": [
        "'''\n",
        "The order in which data is given and\n",
        "the order in which data is retrieved is not same\n",
        "'''"
      ],
      "metadata": {
        "id": "1B89h3Myp_lQ"
      },
      "execution_count": null,
      "outputs": []
    },
    {
      "cell_type": "code",
      "source": [
        "# Sets cannot be indexed\n",
        "set1 = {'a', 'b', 'c', 'd', 'e'}\n",
        "print('First Element :', set1[0])"
      ],
      "metadata": {
        "colab": {
          "base_uri": "https://localhost:8080/",
          "height": 180
        },
        "id": "OiRZe6r5-ntL",
        "outputId": "4459a265-6471-4b28-8206-791f37b733cf"
      },
      "execution_count": null,
      "outputs": [
        {
          "output_type": "error",
          "ename": "TypeError",
          "evalue": "'set' object is not subscriptable",
          "traceback": [
            "\u001b[0;31m---------------------------------------------------------------------------\u001b[0m",
            "\u001b[0;31mTypeError\u001b[0m                                 Traceback (most recent call last)",
            "\u001b[0;32m<ipython-input-66-49c9c5203cec>\u001b[0m in \u001b[0;36m<cell line: 0>\u001b[0;34m()\u001b[0m\n\u001b[1;32m      1\u001b[0m \u001b[0;31m# Sets cannot be indexed\u001b[0m\u001b[0;34m\u001b[0m\u001b[0;34m\u001b[0m\u001b[0m\n\u001b[1;32m      2\u001b[0m \u001b[0mset1\u001b[0m \u001b[0;34m=\u001b[0m \u001b[0;34m{\u001b[0m\u001b[0;34m'a'\u001b[0m\u001b[0;34m,\u001b[0m \u001b[0;34m'b'\u001b[0m\u001b[0;34m,\u001b[0m \u001b[0;34m'c'\u001b[0m\u001b[0;34m,\u001b[0m \u001b[0;34m'd'\u001b[0m\u001b[0;34m,\u001b[0m \u001b[0;34m'e'\u001b[0m\u001b[0;34m}\u001b[0m\u001b[0;34m\u001b[0m\u001b[0;34m\u001b[0m\u001b[0m\n\u001b[0;32m----> 3\u001b[0;31m \u001b[0mprint\u001b[0m\u001b[0;34m(\u001b[0m\u001b[0;34m'First Element :'\u001b[0m\u001b[0;34m,\u001b[0m \u001b[0mset1\u001b[0m\u001b[0;34m[\u001b[0m\u001b[0;36m0\u001b[0m\u001b[0;34m]\u001b[0m\u001b[0;34m)\u001b[0m\u001b[0;34m\u001b[0m\u001b[0;34m\u001b[0m\u001b[0m\n\u001b[0m",
            "\u001b[0;31mTypeError\u001b[0m: 'set' object is not subscriptable"
          ]
        }
      ]
    },
    {
      "cell_type": "code",
      "source": [
        "# add() method in sets\n",
        "set1 = {1, 2, 3}\n",
        "print('Actual Set :', set1)\n",
        "\n",
        "set1.add(5)\n",
        "print('Updated Set :', set1)"
      ],
      "metadata": {
        "colab": {
          "base_uri": "https://localhost:8080/"
        },
        "id": "WwnCdouB-nw8",
        "outputId": "98d9ac62-91e3-4e88-f460-bd9d39710a78"
      },
      "execution_count": null,
      "outputs": [
        {
          "output_type": "stream",
          "name": "stdout",
          "text": [
            "Actual Set : {1, 2, 3}\n",
            "Updated Set : {1, 2, 3, 5}\n"
          ]
        }
      ]
    },
    {
      "cell_type": "code",
      "source": [
        "# update() method in Sets\n",
        "set1 = {1, 2, 3}\n",
        "print('Actual Set :', set1)\n",
        "\n",
        "set1.update([4, 5, 6])\n",
        "print('Updated Set :', set1)"
      ],
      "metadata": {
        "colab": {
          "base_uri": "https://localhost:8080/"
        },
        "id": "TYSSAptI-n04",
        "outputId": "290eaaa8-de37-4a90-a221-22a194b91e34"
      },
      "execution_count": null,
      "outputs": [
        {
          "output_type": "stream",
          "name": "stdout",
          "text": [
            "Actual Set : {1, 2, 3}\n",
            "Updated Set : {1, 2, 3, 4, 5, 6}\n"
          ]
        }
      ]
    },
    {
      "cell_type": "code",
      "source": [
        "# Are sets heterogenous ?\n",
        "set1 = {1, 5.0, 'Python', True}\n",
        "print('Set :', set1)\n",
        "print('Type :', type(set1))"
      ],
      "metadata": {
        "colab": {
          "base_uri": "https://localhost:8080/"
        },
        "id": "x59BdkRZ-n5y",
        "outputId": "5b100392-d6ca-455a-d097-c5cca81c3489"
      },
      "execution_count": null,
      "outputs": [
        {
          "output_type": "stream",
          "name": "stdout",
          "text": [
            "Set : {1, 5.0, 'Python'}\n",
            "Type : <class 'set'>\n"
          ]
        }
      ]
    },
    {
      "cell_type": "code",
      "source": [
        "# using remove() method\n",
        "set1 = {1, 2, 3, 4, 5}\n",
        "print('Actual Set :', set1)\n",
        "\n",
        "set1.remove(4)\n",
        "print('Updated Set :', set1)"
      ],
      "metadata": {
        "colab": {
          "base_uri": "https://localhost:8080/"
        },
        "id": "aOD9I6IN-oBe",
        "outputId": "36f5706d-aa76-4402-b1c8-c047816c340a"
      },
      "execution_count": null,
      "outputs": [
        {
          "output_type": "stream",
          "name": "stdout",
          "text": [
            "Actual Set : {1, 2, 3, 4, 5}\n",
            "Updated Set : {1, 2, 3, 5}\n"
          ]
        }
      ]
    },
    {
      "cell_type": "code",
      "source": [
        "# using remove() method\n",
        "set1 = {1, 2, 3, 4, 5}\n",
        "print('Actual Set :', set1)\n",
        "\n",
        "set1.remove(7)\n",
        "print('Updated Set :', set1)"
      ],
      "metadata": {
        "colab": {
          "base_uri": "https://localhost:8080/",
          "height": 216
        },
        "id": "4wNv7G98-oFa",
        "outputId": "ff79c525-4e61-4f50-8883-1564535ffef1"
      },
      "execution_count": null,
      "outputs": [
        {
          "output_type": "stream",
          "name": "stdout",
          "text": [
            "Actual Set : {1, 2, 3, 4, 5}\n"
          ]
        },
        {
          "output_type": "error",
          "ename": "KeyError",
          "evalue": "7",
          "traceback": [
            "\u001b[0;31m---------------------------------------------------------------------------\u001b[0m",
            "\u001b[0;31mKeyError\u001b[0m                                  Traceback (most recent call last)",
            "\u001b[0;32m<ipython-input-71-f082ad901578>\u001b[0m in \u001b[0;36m<cell line: 0>\u001b[0;34m()\u001b[0m\n\u001b[1;32m      3\u001b[0m \u001b[0mprint\u001b[0m\u001b[0;34m(\u001b[0m\u001b[0;34m'Actual Set :'\u001b[0m\u001b[0;34m,\u001b[0m \u001b[0mset1\u001b[0m\u001b[0;34m)\u001b[0m\u001b[0;34m\u001b[0m\u001b[0;34m\u001b[0m\u001b[0m\n\u001b[1;32m      4\u001b[0m \u001b[0;34m\u001b[0m\u001b[0m\n\u001b[0;32m----> 5\u001b[0;31m \u001b[0mset1\u001b[0m\u001b[0;34m.\u001b[0m\u001b[0mremove\u001b[0m\u001b[0;34m(\u001b[0m\u001b[0;36m7\u001b[0m\u001b[0;34m)\u001b[0m\u001b[0;34m\u001b[0m\u001b[0;34m\u001b[0m\u001b[0m\n\u001b[0m\u001b[1;32m      6\u001b[0m \u001b[0mprint\u001b[0m\u001b[0;34m(\u001b[0m\u001b[0;34m'Updated Set :'\u001b[0m\u001b[0;34m,\u001b[0m \u001b[0mset1\u001b[0m\u001b[0;34m)\u001b[0m\u001b[0;34m\u001b[0m\u001b[0;34m\u001b[0m\u001b[0m\n",
            "\u001b[0;31mKeyError\u001b[0m: 7"
          ]
        }
      ]
    },
    {
      "cell_type": "code",
      "source": [
        "# using discard method\n",
        "set1 = {1, 2, 3, 4, 5}\n",
        "print('Actual Set :', set1)\n",
        "\n",
        "set1.discard(4)\n",
        "print('Updated Set :', set1)"
      ],
      "metadata": {
        "colab": {
          "base_uri": "https://localhost:8080/"
        },
        "id": "0eyslTaU-oJT",
        "outputId": "e290b551-f81c-4baf-db8e-35daaf5d8a2a"
      },
      "execution_count": null,
      "outputs": [
        {
          "output_type": "stream",
          "name": "stdout",
          "text": [
            "Actual Set : {1, 2, 3, 4, 5}\n",
            "Updated Set : {1, 2, 3, 5}\n"
          ]
        }
      ]
    },
    {
      "cell_type": "code",
      "source": [
        "# using discard method\n",
        "set1 = {1, 2, 3, 4, 5}\n",
        "print('Actual Set :', set1)\n",
        "\n",
        "set1.discard(7)\n",
        "print('Updated Set :', set1)"
      ],
      "metadata": {
        "colab": {
          "base_uri": "https://localhost:8080/"
        },
        "id": "sZiU4vlX-oMm",
        "outputId": "18359b67-aca8-4b59-cf11-cb9e0f8bb88e"
      },
      "execution_count": null,
      "outputs": [
        {
          "output_type": "stream",
          "name": "stdout",
          "text": [
            "Actual Set : {1, 2, 3, 4, 5}\n",
            "Updated Set : {1, 2, 3, 4, 5}\n"
          ]
        }
      ]
    },
    {
      "cell_type": "code",
      "source": [
        "# pop() method\n",
        "set1 = {1, 2, 3, 4, 5}\n",
        "val = set1.pop()\n",
        "\n",
        "print('Pop Element :', val)\n",
        "print('Set :', set1)"
      ],
      "metadata": {
        "colab": {
          "base_uri": "https://localhost:8080/"
        },
        "id": "wfCuDmAT-oQi",
        "outputId": "0c57b082-ce8b-4771-84d6-649ef3b0eaba"
      },
      "execution_count": null,
      "outputs": [
        {
          "output_type": "stream",
          "name": "stdout",
          "text": [
            "Pop Element : 1\n",
            "Set : {2, 3, 4, 5}\n"
          ]
        }
      ]
    },
    {
      "cell_type": "code",
      "source": [
        "# clear() method\n",
        "set1 = {1, 2, 3, 4, 5}\n",
        "print('Actual Set :', set1)\n",
        "\n",
        "set1.clear()\n",
        "print('Updated Set :', set1)"
      ],
      "metadata": {
        "colab": {
          "base_uri": "https://localhost:8080/"
        },
        "id": "jCsl0Vxx-oUM",
        "outputId": "7fdc631e-57fb-4427-c20a-75b9f36b4e79"
      },
      "execution_count": null,
      "outputs": [
        {
          "output_type": "stream",
          "name": "stdout",
          "text": [
            "Actual Set : {1, 2, 3, 4, 5}\n",
            "Updated Set : set()\n"
          ]
        }
      ]
    },
    {
      "cell_type": "code",
      "source": [
        "# Operations on Set ->"
      ],
      "metadata": {
        "id": "i5oyDajX-oY-"
      },
      "execution_count": null,
      "outputs": []
    },
    {
      "cell_type": "code",
      "source": [
        "# union()\n",
        "a = {'Adarsh', 'Divyanshu', 'Abhishek'}\n",
        "b = {'Sateesh', 'Mrunay', 'Kedar', 'Abhishek'}\n",
        "print('Actual Set 1 :\\n', a)\n",
        "print('Actual Set 2 :\\n', b)\n",
        "print('Union :\\n', a.union(b))"
      ],
      "metadata": {
        "colab": {
          "base_uri": "https://localhost:8080/"
        },
        "id": "eoDamtYy-oc2",
        "outputId": "7250931c-5de0-4c97-85a0-db8ca97f0863"
      },
      "execution_count": null,
      "outputs": [
        {
          "output_type": "stream",
          "name": "stdout",
          "text": [
            "Actual Set 1 :\n",
            " {'Adarsh', 'Divyanshu', 'Abhishek'}\n",
            "Actual Set 2 :\n",
            " {'Kedar', 'Mrunay', 'Abhishek', 'Sateesh'}\n",
            "Union :\n",
            " {'Mrunay', 'Abhishek', 'Sateesh', 'Kedar', 'Adarsh', 'Divyanshu'}\n"
          ]
        }
      ]
    },
    {
      "cell_type": "code",
      "source": [
        "# intersection()\n",
        "a = {'Adarsh', 'Divyanshu', 'Abhishek'}\n",
        "b = {'Sateesh', 'Mrunay', 'Kedar', 'Abhishek'}\n",
        "print('Actual Set 1 :\\n', a)\n",
        "print('Actual Set 2 :\\n', b)\n",
        "print('Union :\\n', a.intersection(b))"
      ],
      "metadata": {
        "colab": {
          "base_uri": "https://localhost:8080/"
        },
        "id": "XOISpGzK-og-",
        "outputId": "d8bcb7e9-073a-42b2-812d-77557176ed43"
      },
      "execution_count": null,
      "outputs": [
        {
          "output_type": "stream",
          "name": "stdout",
          "text": [
            "Actual Set 1 :\n",
            " {'Adarsh', 'Divyanshu', 'Abhishek'}\n",
            "Actual Set 2 :\n",
            " {'Kedar', 'Mrunay', 'Abhishek', 'Sateesh'}\n",
            "Union :\n",
            " {'Abhishek'}\n"
          ]
        }
      ]
    },
    {
      "cell_type": "code",
      "source": [
        "# difference()\n",
        "a = {'Adarsh', 'Divyanshu', 'Abhishek'}\n",
        "b = {'Sateesh', 'Mrunay', 'Kedar', 'Abhishek'}\n",
        "print('Actual Set 1 :\\n', a)\n",
        "print('Actual Set 2 :\\n', b)\n",
        "print('Union :\\n', a.difference(b))"
      ],
      "metadata": {
        "colab": {
          "base_uri": "https://localhost:8080/"
        },
        "id": "oy1K4kmgCNkd",
        "outputId": "0b167b62-47aa-4e75-ce90-30cad101705a"
      },
      "execution_count": null,
      "outputs": [
        {
          "output_type": "stream",
          "name": "stdout",
          "text": [
            "Actual Set 1 :\n",
            " {'Adarsh', 'Divyanshu', 'Abhishek'}\n",
            "Actual Set 2 :\n",
            " {'Kedar', 'Mrunay', 'Abhishek', 'Sateesh'}\n",
            "Union :\n",
            " {'Adarsh', 'Divyanshu'}\n"
          ]
        }
      ]
    },
    {
      "cell_type": "code",
      "source": [
        "# frozenset() -> Immutable"
      ],
      "metadata": {
        "id": "8-1rhahvCNo5"
      },
      "execution_count": null,
      "outputs": []
    },
    {
      "cell_type": "code",
      "source": [
        "# Creating a frozen set\n",
        "fset = frozenset([1, 2, 3, 4, 5])\n",
        "print('Frozen Set :', fset)\n",
        "print('Type :', type(fset))"
      ],
      "metadata": {
        "colab": {
          "base_uri": "https://localhost:8080/"
        },
        "id": "F_GX_-X8CNtO",
        "outputId": "931e806e-a376-4446-9617-1703928518d0"
      },
      "execution_count": null,
      "outputs": [
        {
          "output_type": "stream",
          "name": "stdout",
          "text": [
            "Frozen Set : frozenset({1, 2, 3, 4, 5})\n",
            "Type : <class 'frozenset'>\n"
          ]
        }
      ]
    },
    {
      "cell_type": "code",
      "source": [
        "# Dictionary in Python ->"
      ],
      "metadata": {
        "id": "JQrtBmRqC4Ue"
      },
      "execution_count": null,
      "outputs": []
    },
    {
      "cell_type": "code",
      "source": [
        "# Creating a dictionary\n",
        "d1 = {\n",
        "    1 : 'List',\n",
        "    2 : 'Tuples',\n",
        "    3 : 'Set',\n",
        "    4 : 'Dictionary'\n",
        "}\n",
        "print('Dictionary :\\n', d1)\n",
        "print('Type :', type(d1))\n",
        "print('Keys :', d1.keys())\n",
        "print('Values :', d1.values())"
      ],
      "metadata": {
        "colab": {
          "base_uri": "https://localhost:8080/"
        },
        "id": "kOU3ucSlC4YX",
        "outputId": "38bc86d5-721a-4ab6-c430-a9508bddeb65"
      },
      "execution_count": null,
      "outputs": [
        {
          "output_type": "stream",
          "name": "stdout",
          "text": [
            "Dictionary :\n",
            " {1: 'List', 2: 'Tuples', 3: 'Set', 4: 'Dictionary'}\n",
            "Type : <class 'dict'>\n",
            "Keys : dict_keys([1, 2, 3, 4])\n",
            "Values : dict_values(['List', 'Tuples', 'Set', 'Dictionary'])\n"
          ]
        }
      ]
    },
    {
      "cell_type": "code",
      "source": [
        "# Extracting the value associated w.r.t. a key\n",
        "print(d1[1])"
      ],
      "metadata": {
        "colab": {
          "base_uri": "https://localhost:8080/"
        },
        "id": "LUm9hF8JC4dH",
        "outputId": "ae51ac91-86fd-4292-946f-adb0e56d2b31"
      },
      "execution_count": null,
      "outputs": [
        {
          "output_type": "stream",
          "name": "stdout",
          "text": [
            "List\n"
          ]
        }
      ]
    },
    {
      "cell_type": "code",
      "source": [
        "# Dictionary is mutable\n",
        "d1[3] = 'Frozen Set'\n",
        "print('Dictionary  :\\n', d1)\n",
        "print('Type :', type(d1))"
      ],
      "metadata": {
        "colab": {
          "base_uri": "https://localhost:8080/"
        },
        "id": "rGXJLdpLC4hh",
        "outputId": "20e9c0d8-43d7-42f9-9425-84cb105914b4"
      },
      "execution_count": null,
      "outputs": [
        {
          "output_type": "stream",
          "name": "stdout",
          "text": [
            "Dictionary  :\n",
            " {1: 'List', 2: 'Tuples', 3: 'Frozen Set', 4: 'Dictionary'}\n",
            "Type : <class 'dict'>\n"
          ]
        }
      ]
    },
    {
      "cell_type": "code",
      "source": [
        "# Removing elements from a list\n",
        "print('Actual Dictionary :\\n', d1)\n",
        "del d1[1]\n",
        "print('Updated Dictionary :\\n', d1)"
      ],
      "metadata": {
        "colab": {
          "base_uri": "https://localhost:8080/"
        },
        "id": "6wx51HfWCNw8",
        "outputId": "e108e369-eb0e-4d30-a036-8b768f05622d"
      },
      "execution_count": null,
      "outputs": [
        {
          "output_type": "stream",
          "name": "stdout",
          "text": [
            "Actual Dictionary :\n",
            " {1: 'List', 2: 'Tuples', 3: 'Frozen Set', 4: 'Dictionary'}\n",
            "Updated Dictionary :\n",
            " {2: 'Tuples', 3: 'Frozen Set', 4: 'Dictionary'}\n"
          ]
        }
      ]
    },
    {
      "cell_type": "code",
      "source": [
        "# pop() method\n",
        "val = d1.pop(2)\n",
        "print('Pop Element :', val)\n",
        "print('Dictionary :', d1)"
      ],
      "metadata": {
        "colab": {
          "base_uri": "https://localhost:8080/"
        },
        "id": "eMqu-9YICN1i",
        "outputId": "4d79df69-51f9-448f-ee31-05c025c23b87"
      },
      "execution_count": null,
      "outputs": [
        {
          "output_type": "stream",
          "name": "stdout",
          "text": [
            "Pop Element : Tuples\n",
            "Dictionary : {3: 'Frozen Set', 4: 'Dictionary'}\n"
          ]
        }
      ]
    },
    {
      "cell_type": "code",
      "source": [
        "# popitem()\n",
        "key, val = d1.popitem()\n",
        "print('Key :', key)\n",
        "print('Value :', val)\n",
        "print('Dictionary :', d1)"
      ],
      "metadata": {
        "colab": {
          "base_uri": "https://localhost:8080/"
        },
        "id": "OMFMJQ0TCN60",
        "outputId": "d1c02e6d-e88a-4b45-c1ac-4e278c92f65a"
      },
      "execution_count": null,
      "outputs": [
        {
          "output_type": "stream",
          "name": "stdout",
          "text": [
            "Key : 4\n",
            "Value : Dictionary\n",
            "Dictionary : {3: 'Frozen Set'}\n"
          ]
        }
      ]
    },
    {
      "cell_type": "code",
      "source": [
        "# Extracting the pair of elements\n",
        "d1 = {\n",
        "    1 : 'List',\n",
        "    2 : 'Tuples',\n",
        "    3 : 'Set',\n",
        "    4 : 'Dictionary'\n",
        "}\n",
        "for key, val in d1.items():\n",
        "  print(f\"{key} : {val}\")"
      ],
      "metadata": {
        "colab": {
          "base_uri": "https://localhost:8080/"
        },
        "id": "qYFxKkJPE7t4",
        "outputId": "c6ab7bb0-2304-48e1-e917-13c9e37c2a5f"
      },
      "execution_count": null,
      "outputs": [
        {
          "output_type": "stream",
          "name": "stdout",
          "text": [
            "1 : List\n",
            "2 : Tuples\n",
            "3 : Set\n",
            "4 : Dictionary\n"
          ]
        }
      ]
    },
    {
      "cell_type": "code",
      "source": [
        "# Adding a key value pair\n",
        "d1[5] = 'FrozenSet'\n",
        "print('Dictionary :', d1)"
      ],
      "metadata": {
        "colab": {
          "base_uri": "https://localhost:8080/"
        },
        "id": "oDtEBgsrE7w6",
        "outputId": "5d5a5f12-c664-494a-ba65-71e4d683daa7"
      },
      "execution_count": null,
      "outputs": [
        {
          "output_type": "stream",
          "name": "stdout",
          "text": [
            "Dictionary : {1: 'List', 2: 'Tuples', 3: 'Set', 4: 'Dictionary', 5: 'FrozenSet'}\n"
          ]
        }
      ]
    },
    {
      "cell_type": "code",
      "source": [],
      "metadata": {
        "id": "6D2IjMG1CN-7"
      },
      "execution_count": null,
      "outputs": []
    },
    {
      "cell_type": "code",
      "source": [],
      "metadata": {
        "id": "N0pC0rqcCOCI"
      },
      "execution_count": null,
      "outputs": []
    },
    {
      "cell_type": "code",
      "source": [],
      "metadata": {
        "id": "4mREPs2J-okp"
      },
      "execution_count": null,
      "outputs": []
    }
  ]
}